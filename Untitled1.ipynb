{
  "nbformat": 4,
  "nbformat_minor": 0,
  "metadata": {
    "colab": {
      "name": "Untitled1.ipynb",
      "provenance": []
    },
    "kernelspec": {
      "name": "python3",
      "display_name": "Python 3"
    }
  },
  "cells": [
    {
      "cell_type": "code",
      "metadata": {
        "id": "QY_6seofcwvq",
        "colab_type": "code",
        "colab": {
          "base_uri": "https://localhost:8080/",
          "height": 153
        },
        "outputId": "9543c7dc-bf61-42d3-bdfd-cf7c810014f2"
      },
      "source": [
        "import urllib.request,urllib.parse,urllib.error\n",
        "from bs4 import BeautifulSoup\n",
        "url=input(\"enter the url\")\n",
        "html=urllib.request.urlopen(url).read()\n",
        "soup=BeautifulSoup(html,'html.parser')\n",
        "tags=soup('a')\n",
        "for tag in tags:\n",
        "  print(tag.get('href',None))"
      ],
      "execution_count": null,
      "outputs": [
        {
          "output_type": "stream",
          "text": [
            "enter the urlhttps://mail.google.com/mail/u/0/#inbox\n",
            "https://accounts.google.com/signin/usernamerecovery?continue=https%3A%2F%2Fmail.google.com%2Fmail%2F&service=mail&ss=1&scc=1&rm=false&osid=1&ltmpl=default&hl=en\n",
            "https://accounts.google.com/AccountChooser?continue=https%3A%2F%2Fmail.google.com%2Fmail%2F&service=mail&rm=false&ltmpl=default&scc=1&ss=1&osid=1&emr=1\n",
            "https://accounts.google.com/SignUp?service=mail&continue=https%3A%2F%2Fmail.google.com%2Fmail%2F&ltmpl=default\n",
            "https://www.google.com/intl/en/about\n",
            "https://accounts.google.com/TOS?loc=US&hl=en&privacy=true\n",
            "https://accounts.google.com/TOS?loc=US&hl=en\n",
            "http://www.google.com/support/accounts?hl=en\n"
          ],
          "name": "stdout"
        }
      ]
    },
    {
      "cell_type": "code",
      "metadata": {
        "id": "5G106HSHeSCE",
        "colab_type": "code",
        "colab": {
          "base_uri": "https://localhost:8080/",
          "height": 68
        },
        "outputId": "776d2751-f6c4-4551-8321-645fee3016dc"
      },
      "source": [
        "import urllib\n",
        "from bs4 import BeautifulSoup\n",
        "\n",
        "url = input('Enter - ')\n",
        "\n",
        "html = urllib.request.urlopen(url).read()\n",
        "soup = BeautifulSoup(html)\n",
        "tag = soup(\"span\")\n",
        "count=0\n",
        "sum=0\n",
        "for i in tag:\n",
        "\tx=int(i.text)\n",
        "\tcount+=1\n",
        "\tsum = sum + x\n",
        "print(count)\n",
        "print(sum)"
      ],
      "execution_count": null,
      "outputs": [
        {
          "output_type": "stream",
          "text": [
            "Enter - http://py4e-data.dr-chuck.net/comments_716760.html\n",
            "50\n",
            "2477\n"
          ],
          "name": "stdout"
        }
      ]
    },
    {
      "cell_type": "code",
      "metadata": {
        "id": "Dkv91CQorTh5",
        "colab_type": "code",
        "colab": {
          "base_uri": "https://localhost:8080/",
          "height": 306
        },
        "outputId": "aeec9860-1b22-436b-f384-48d6f4f931d0"
      },
      "source": [
        "import urllib\n",
        "from bs4 import BeautifulSoup\n",
        "url = input('Enter Url: ')\n",
        "count = int(input(\"Enter count: \"))\n",
        "position = int(input(\"Enter position:\"))\n",
        "for i in range(count):\n",
        "    html = urllib.request.urlopen(url).read()\n",
        "    soup = BeautifulSoup(html)\n",
        "\n",
        "    tags = soup('a')\n",
        "    s = []\n",
        "    t = []\n",
        "    for tag in tags:\n",
        "        x = tag.get('href', None)\n",
        "        s.append(x)\n",
        "        y = tag.text\n",
        "        t.append(y)\n",
        "\n",
        "    print(s[position-1])\n",
        "    print(t[position-1])\n",
        "    url = s[position-1]\n"
      ],
      "execution_count": null,
      "outputs": [
        {
          "output_type": "stream",
          "text": [
            "Enter Url: http://py4e-data.dr-chuck.net/known_by_Cormac.html\n",
            "Enter count: 7\n",
            "Enter position:18\n",
            "http://py4e-data.dr-chuck.net/known_by_Roderick.html\n",
            "Roderick\n",
            "http://py4e-data.dr-chuck.net/known_by_Lia.html\n",
            "Lia\n",
            "http://py4e-data.dr-chuck.net/known_by_Maykayla.html\n",
            "Maykayla\n",
            "http://py4e-data.dr-chuck.net/known_by_Eden.html\n",
            "Eden\n",
            "http://py4e-data.dr-chuck.net/known_by_Sheanne.html\n",
            "Sheanne\n",
            "http://py4e-data.dr-chuck.net/known_by_Pushkar.html\n",
            "Pushkar\n",
            "http://py4e-data.dr-chuck.net/known_by_Leetisha.html\n",
            "Leetisha\n"
          ],
          "name": "stdout"
        }
      ]
    },
    {
      "cell_type": "code",
      "metadata": {
        "id": "Q_y8kWMlsdWj",
        "colab_type": "code",
        "colab": {}
      },
      "source": [
        ""
      ],
      "execution_count": null,
      "outputs": []
    }
  ]
}